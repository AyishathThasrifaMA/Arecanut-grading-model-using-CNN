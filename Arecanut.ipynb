{
  "cells": [
    {
      "cell_type": "code",
      "execution_count": null,
      "metadata": {
        "id": "LpqCJqxaEFWv"
      },
      "outputs": [],
      "source": [
        "!tensorflow --version"
      ]
    },
    {
      "cell_type": "code",
      "execution_count": null,
      "metadata": {
        "id": "zfkZktwqIEJ4"
      },
      "outputs": [],
      "source": [
        "import tensorflow as tf\n",
        "import os\n",
        "from tensorflow.keras.preprocessing.image import ImageDataGenerator\n",
        "from tensorflow.keras import layers, models\n",
        "import matplotlib.pyplot as plt\n",
        "import numpy as np\n",
        "from tensorflow import keras"
      ]
    },
    {
      "cell_type": "code",
      "execution_count": null,
      "metadata": {
        "colab": {
          "base_uri": "https://localhost:8080/"
        },
        "id": "vE7M0EGr1pAz",
        "outputId": "cc835c28-dc1c-4e3a-e077-e4c9a08646ac"
      },
      "outputs": [
        {
          "name": "stdout",
          "output_type": "stream",
          "text": [
            "Mounted at /content/drive\n"
          ]
        }
      ],
      "source": [
        "from google.colab import drive\n",
        "drive.mount('/content/drive')"
      ]
    },
    {
      "attachments": {},
      "cell_type": "markdown",
      "metadata": {},
      "source": [
        "\n"
      ]
    },
    {
      "cell_type": "code",
      "execution_count": null,
      "metadata": {
        "id": "IGGNAEy9EItN"
      },
      "outputs": [],
      "source": [
        "import pathlib\n",
        "train_dir=pathlib.Path('/content/drive/MyDrive/Major Project/data')\n",
        "test_dir=pathlib.Path('/content/drive/MyDrive/Major Project/Sample/data/areca-data/Test')"
      ]
    },
    {
      "cell_type": "code",
      "execution_count": null,
      "metadata": {
        "id": "FpMgej3XEZZN"
      },
      "outputs": [],
      "source": [
        "batch_size = 10\n",
        "img_height = 224\n",
        "img_width = 224"
      ]
    },
    {
      "cell_type": "code",
      "execution_count": null,
      "metadata": {
        "colab": {
          "base_uri": "https://localhost:8080/"
        },
        "id": "Y9h93-Y7EcMK",
        "outputId": "0dc6f369-9cc9-418e-edb4-91632730beaf"
      },
      "outputs": [
        {
          "name": "stdout",
          "output_type": "stream",
          "text": [
            "Found 436 images belonging to 4 classes.\n"
          ]
        }
      ],
      "source": [
        "train_image_generator = ImageDataGenerator(rescale=1./255)  \n",
        "train_data_gen = train_image_generator.flow_from_directory(batch_size=batch_size,\n",
        "                                                           directory=train_dir,\n",
        "                                                           shuffle=True,\n",
        "                                                           target_size=(img_height, img_width),\n",
        "                                                           class_mode='categorical')"
      ]
    },
    {
      "cell_type": "code",
      "execution_count": null,
      "metadata": {
        "colab": {
          "base_uri": "https://localhost:8080/"
        },
        "id": "8697cgWXElV_",
        "outputId": "4a409a02-2c87-4470-a541-aed8121bcdb5"
      },
      "outputs": [
        {
          "name": "stdout",
          "output_type": "stream",
          "text": [
            "Found 40 images belonging to 4 classes.\n"
          ]
        }
      ],
      "source": [
        "val_image_generator = ImageDataGenerator(rescale=1./255)  \n",
        "val_data_gen = val_image_generator .flow_from_directory(batch_size=batch_size,\n",
        "                                                        directory=test_dir,\n",
        "                                                        shuffle=True,\n",
        "                                                        target_size=(img_height, img_width),\n",
        "                                                        class_mode='categorical')"
      ]
    },
    {
      "cell_type": "code",
      "execution_count": null,
      "metadata": {
        "id": "27JwyTc4EvWk"
      },
      "outputs": [],
      "source": [
        "from tensorflow.keras.applications.inception_v3 import InceptionV3"
      ]
    },
    {
      "cell_type": "code",
      "execution_count": null,
      "metadata": {
        "colab": {
          "base_uri": "https://localhost:8080/"
        },
        "id": "SJeiX4YWEyu_",
        "outputId": "8e5779cf-05da-481c-b566-a32ca6332e54"
      },
      "outputs": [
        {
          "name": "stdout",
          "output_type": "stream",
          "text": [
            "Downloading data from https://storage.googleapis.com/tensorflow/keras-applications/inception_v3/inception_v3_weights_tf_dim_ordering_tf_kernels_notop.h5\n",
            "87916544/87910968 [==============================] - 0s 0us/step\n",
            "87924736/87910968 [==============================] - 0s 0us/step\n"
          ]
        }
      ],
      "source": [
        "IMAGE_SIZE = [224, 224]\n",
        "base_model = InceptionV3(input_shape=IMAGE_SIZE + [3], weights='imagenet', include_top=False)\n",
        "base_model.trainable = False"
      ]
    },
    {
      "cell_type": "code",
      "execution_count": null,
      "metadata": {
        "id": "9nPKpdIeE9j8"
      },
      "outputs": [],
      "source": [
        "#  base_model.summary()"
      ]
    },
    {
      "cell_type": "code",
      "execution_count": null,
      "metadata": {
        "id": "t0Vws7CTFCyK"
      },
      "outputs": [],
      "source": [
        "cnn_model = keras.models.Sequential([\n",
        "    base_model,\n",
        "    keras.layers.GlobalAveragePooling2D(),\n",
        "    keras.layers.Flatten(),\n",
        "    keras.layers.Dense(100, activation=\"relu\"),\n",
        "    keras.layers.Dense(4, activation=\"softmax\")\n",
        "])"
      ]
    },
    {
      "cell_type": "code",
      "execution_count": null,
      "metadata": {
        "id": "jVD8BPlDFIzP"
      },
      "outputs": [],
      "source": [
        "cnn_model.compile(optimizer='adam',\n",
        "loss='categorical_crossentropy',\n",
        "metrics=['accuracy'])"
      ]
    },
    {
      "cell_type": "code",
      "execution_count": null,
      "metadata": {
        "colab": {
          "base_uri": "https://localhost:8080/"
        },
        "id": "KhNcAZqkFLlb",
        "outputId": "d4480bd8-58b5-4dec-deb1-27992a1f0fd4"
      },
      "outputs": [
        {
          "name": "stdout",
          "output_type": "stream",
          "text": [
            "44/44 [==============================] - 157s 4s/step - loss: 0.2196 - accuracy: 0.9266 - val_loss: 0.2882 - val_accuracy: 0.8750\n"
          ]
        }
      ],
      "source": [
        "#history = cnn_model.fit(train_data_gen, epochs=1,\n",
        "#validation_data= val_data_gen,)\n",
        "\n",
        "save_path = './keras-saves/_latest.ckpt'\n",
        "try:\n",
        "    cnn_model.fit(train_data_gen,validation_data= val_data_gen,\n",
        "              epochs=1)\n",
        "except KeyboardInterrupt:\n",
        "    cnn_model.save(save_path)\n",
        "    print('Output saved to: \"{}./*\"'.format(save_path))\n"
      ]
    },
    {
      "cell_type": "code",
      "execution_count": null,
      "metadata": {
        "id": "u3X0FOyYp15m"
      },
      "outputs": [],
      "source": [
        "class_names = ['GradeA', 'GradeB', 'GradeC', 'GradeD']"
      ]
    },
    {
      "cell_type": "code",
      "execution_count": null,
      "metadata": {
        "id": "UjhO-2k-pAwd"
      },
      "outputs": [],
      "source": []
    },
    {
      "cell_type": "code",
      "execution_count": null,
      "metadata": {
        "id": "yDdPxm-spAsY"
      },
      "outputs": [],
      "source": [
        "import tensorflow as tf\n",
        "import os\n",
        "from tensorflow.keras.preprocessing.image import ImageDataGenerator\n",
        "from tensorflow.keras import layers, models\n",
        "import matplotlib.pyplot as plt\n",
        "import numpy as np\n",
        "from tensorflow import keras\n",
        "import pathlib\n",
        "train_dir=pathlib.Path('/content/drive/MyDrive/Major Project/train-data')\n",
        "test_dir=pathlib.Path('/content/drive/MyDrive/Major Project/test-data')\n",
        "batch_size = 10\n",
        "train_image_generator = ImageDataGenerator(rescale=1./255)  \n",
        "train_data_gen = train_image_generator.flow_from_directory(batch_size=batch_size,\n",
        "                                                           directory=train_dir,\n",
        "                                                           shuffle=True,\n",
        "                                                           target_size=(img_height, img_width),\n",
        "                                                           class_mode='categorical')\n",
        "val_image_generator = ImageDataGenerator(rescale=1./255)  \n",
        "val_data_gen = val_image_generator .flow_from_directory(batch_size=batch_size,\n",
        "                                                        directory=test_dir,\n",
        "                                                        shuffle=True,\n",
        "                                                        target_size=(img_height, img_width),\n",
        "                                                        class_mode='categorical')\n",
        "from tensorflow.keras.applications.inception_v3 import InceptionV3\n",
        "IMAGE_SIZE = [224, 224]\n",
        "base_model = InceptionV3(input_shape=IMAGE_SIZE + [3], weights='imagenet', include_top=False)\n",
        "base_model.trainable = False\n",
        "cnn_model = keras.models.Sequential([ base_model,\n",
        "    keras.layers.GlobalAveragePooling2D(),\n",
        "    keras.layers.Flatten(),\n",
        "    keras.layers.Dense(100, activation=\"relu\"),\n",
        "    keras.layers.Dense(4, activation=\"softmax\")])\n",
        "cnn_model.compile(optimizer='adam',\n",
        "loss='categorical_crossentropy',\n",
        "metrics=['accuracy'])\n",
        "\n",
        "\n",
        "save_path = './keras-saves/_latest.ckpt'\n",
        "try:\n",
        "    cnn_model.fit(train_data_gen,validation_data= val_data_gen,\n",
        "              epochs=1)\n",
        "except KeyboardInterrupt:\n",
        "    cnn_model.save(save_path)\n",
        "    print('Output saved to: \"{}./*\"'.format(save_path))\n",
        "\n"
      ]
    },
    {
      "cell_type": "code",
      "execution_count": null,
      "metadata": {
        "id": "GCUDGgtZxlWb"
      },
      "outputs": [],
      "source": [
        "model.save('/content/drive/MyDrive/Major Project/Data Samples/CNN-model.hdfi')"
      ]
    }
  ],
  "metadata": {
    "colab": {
      "collapsed_sections": [],
      "provenance": []
    },
    "kernelspec": {
      "display_name": "Python 3",
      "name": "python3"
    },
    "language_info": {
      "name": "python"
    }
  },
  "nbformat": 4,
  "nbformat_minor": 0
}
